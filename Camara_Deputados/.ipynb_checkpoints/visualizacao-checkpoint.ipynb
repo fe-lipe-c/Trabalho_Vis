{
 "cells": [
  {
   "cell_type": "code",
   "execution_count": 1,
   "metadata": {},
   "outputs": [
    {
     "data": {
      "text/plain": [
       "DataTransformerRegistry.enable('json')"
      ]
     },
     "execution_count": 1,
     "metadata": {},
     "output_type": "execute_result"
    }
   ],
   "source": [
    "import numpy as np\n",
    "import pandas as pd\n",
    "import json\n",
    "import altair as alt\n",
    "#from vega_datasets import data\n",
    "\n",
    "\n",
    "#alt.renderers.enable('notebook')\n",
    "alt.data_transformers.enable('json') \n",
    "\n",
    "#alt.renderers.enable('json')"
   ]
  },
  {
   "cell_type": "code",
   "execution_count": null,
   "metadata": {},
   "outputs": [],
   "source": [
    "df=pd.read_json('/home/felipe/Github/Visualizacao/Camara_Deputados/df_topic_new4.json')#,error_bad_lines=False)\n",
    "url = 'teste.json'\n",
    "df.to_json(url,orient = 'records')"
   ]
  },
  {
   "cell_type": "code",
   "execution_count": 37,
   "metadata": {},
   "outputs": [],
   "source": [
    "df=pd.read_json('teste.json')#,error_bad_lines=False)"
   ]
  },
  {
   "cell_type": "code",
   "execution_count": null,
   "metadata": {},
   "outputs": [],
   "source": [
    "#df.to_json('/home/felipe/Github/Visualizacao/Camara_Deputados/df_topic_new3.csv',orient='records',date_format='iso')"
   ]
  },
  {
   "cell_type": "code",
   "execution_count": null,
   "metadata": {},
   "outputs": [],
   "source": []
  },
  {
   "cell_type": "code",
   "execution_count": 2,
   "metadata": {},
   "outputs": [],
   "source": [
    "eventos = pd.DataFrame([\n",
    "    {\n",
    "        \"start\": \"2014-03-01\",\n",
    "        \"end\": \"2019-12-19\",\n",
    "        \"evento\": \"Lava Jato\"\n",
    "    },\n",
    "    {\n",
    "        \"start\": \"2018-04-07\",\n",
    "        \"end\": \"2019-11-08\",\n",
    "        \"evento\": \"Lula é preso\"\n",
    "    },\n",
    "    {\n",
    "        \"start\": \"2013-06-02\",\n",
    "        \"end\": \"2013-07-01\",\n",
    "        \"evento\": \"Protestos 2013\"\n",
    "    },\n",
    "    {\n",
    "        \"start\": \"2016-04-15\",\n",
    "        \"end\": \"2016-08-25\",\n",
    "        \"evento\": \"Impeachment\"\n",
    "    },\n",
    "    {\n",
    "        \"start\": \"2017-05-17\",\n",
    "        \"end\": \"2017-07-17\",\n",
    "        \"evento\": \"Friboigate\"\n",
    "    }\n",
    "])"
   ]
  },
  {
   "cell_type": "code",
   "execution_count": 36,
   "metadata": {
    "jupyter": {
     "outputs_hidden": true
    },
    "scrolled": true
   },
   "outputs": [
    {
     "ename": "NameError",
     "evalue": "name 'df' is not defined",
     "output_type": "error",
     "traceback": [
      "\u001b[0;31m---------------------------------------------------------------------------\u001b[0m",
      "\u001b[0;31mNameError\u001b[0m                                 Traceback (most recent call last)",
      "\u001b[0;32m<ipython-input-36-00cf07b74dcd>\u001b[0m in \u001b[0;36m<module>\u001b[0;34m\u001b[0m\n\u001b[0;32m----> 1\u001b[0;31m \u001b[0mdf\u001b[0m\u001b[0;34m\u001b[0m\u001b[0;34m\u001b[0m\u001b[0m\n\u001b[0m",
      "\u001b[0;31mNameError\u001b[0m: name 'df' is not defined"
     ]
    }
   ],
   "source": [
    "df\n"
   ]
  },
  {
   "cell_type": "code",
   "execution_count": null,
   "metadata": {},
   "outputs": [],
   "source": []
  },
  {
   "cell_type": "code",
   "execution_count": null,
   "metadata": {},
   "outputs": [],
   "source": [
    "df=df[df['Dominant_Topic']!='0.0']\n",
    "df=df[df['Dominant_Topic']!='1.0']\n",
    "df=df[df['Dominant_Topic']!='11.0']\n",
    "df=df[df['Dominant_Topic']!='13.0']\n",
    "df=df[df['Dominant_Topic']!='15.0']\n",
    "df=df[df['Dominant_Topic']!='18.0']\n",
    "df=df[df['Dominant_Topic']!='20.0']\n",
    "df=df[df['Dominant_Topic']!='24.0']\n",
    "df=df[df['Dominant_Topic']!='28.0']\n",
    "df=df[df['Dominant_Topic']!='30.0']"
   ]
  },
  {
   "cell_type": "code",
   "execution_count": null,
   "metadata": {},
   "outputs": [],
   "source": [
    "df=df[df['Dominant_Topic']!='31.0']\n",
    "df=df[df['Dominant_Topic']!='37.0']\n",
    "df=df[df['Dominant_Topic']!='4.0']\n",
    "df=df[df['Dominant_Topic']!='6.0']\n",
    "df=df[df['Dominant_Topic']!='7.0']"
   ]
  },
  {
   "cell_type": "code",
   "execution_count": null,
   "metadata": {},
   "outputs": [],
   "source": [
    "len(df)"
   ]
  },
  {
   "cell_type": "code",
   "execution_count": null,
   "metadata": {},
   "outputs": [],
   "source": []
  },
  {
   "cell_type": "code",
   "execution_count": null,
   "metadata": {},
   "outputs": [],
   "source": []
  },
  {
   "cell_type": "code",
   "execution_count": null,
   "metadata": {},
   "outputs": [],
   "source": [
    "bar"
   ]
  },
  {
   "cell_type": "code",
   "execution_count": 3,
   "metadata": {},
   "outputs": [
    {
     "data": {
      "text/html": [
       "<style>.container { width:100% !important; }</style>"
      ],
      "text/plain": [
       "<IPython.core.display.HTML object>"
      ]
     },
     "metadata": {},
     "output_type": "display_data"
    }
   ],
   "source": [
    "from IPython.core.display import display, HTML\n",
    "display(HTML(\"<style>.container { width:100% !important; }</style>\"))"
   ]
  },
  {
   "cell_type": "code",
   "execution_count": null,
   "metadata": {},
   "outputs": [],
   "source": []
  },
  {
   "cell_type": "code",
   "execution_count": null,
   "metadata": {},
   "outputs": [],
   "source": []
  },
  {
   "cell_type": "code",
   "execution_count": 16,
   "metadata": {},
   "outputs": [
    {
     "data": {
      "text/html": [
       "\n",
       "<div id=\"altair-viz-0fda6076dcfd4ddcbe2308c0233baf14\"></div>\n",
       "<script type=\"text/javascript\">\n",
       "  (function(spec, embedOpt){\n",
       "    let outputDiv = document.currentScript.previousElementSibling;\n",
       "    if (outputDiv.id !== \"altair-viz-0fda6076dcfd4ddcbe2308c0233baf14\") {\n",
       "      outputDiv = document.getElementById(\"altair-viz-0fda6076dcfd4ddcbe2308c0233baf14\");\n",
       "    }\n",
       "    const paths = {\n",
       "      \"vega\": \"https://cdn.jsdelivr.net/npm//vega@5?noext\",\n",
       "      \"vega-lib\": \"https://cdn.jsdelivr.net/npm//vega-lib?noext\",\n",
       "      \"vega-lite\": \"https://cdn.jsdelivr.net/npm//vega-lite@4.8.1?noext\",\n",
       "      \"vega-embed\": \"https://cdn.jsdelivr.net/npm//vega-embed@6?noext\",\n",
       "    };\n",
       "\n",
       "    function loadScript(lib) {\n",
       "      return new Promise(function(resolve, reject) {\n",
       "        var s = document.createElement('script');\n",
       "        s.src = paths[lib];\n",
       "        s.async = true;\n",
       "        s.onload = () => resolve(paths[lib]);\n",
       "        s.onerror = () => reject(`Error loading script: ${paths[lib]}`);\n",
       "        document.getElementsByTagName(\"head\")[0].appendChild(s);\n",
       "      });\n",
       "    }\n",
       "\n",
       "    function showError(err) {\n",
       "      outputDiv.innerHTML = `<div class=\"error\" style=\"color:red;\">${err}</div>`;\n",
       "      throw err;\n",
       "    }\n",
       "\n",
       "    function displayChart(vegaEmbed) {\n",
       "      vegaEmbed(outputDiv, spec, embedOpt)\n",
       "        .catch(err => showError(`Javascript Error: ${err.message}<br>This usually means there's a typo in your chart specification. See the javascript console for the full traceback.`));\n",
       "    }\n",
       "\n",
       "    if(typeof define === \"function\" && define.amd) {\n",
       "      requirejs.config({paths});\n",
       "      require([\"vega-embed\"], displayChart, err => showError(`Error loading script: ${err.message}`));\n",
       "    } else if (typeof vegaEmbed === \"function\") {\n",
       "      displayChart(vegaEmbed);\n",
       "    } else {\n",
       "      loadScript(\"vega\")\n",
       "        .then(() => loadScript(\"vega-lite\"))\n",
       "        .then(() => loadScript(\"vega-embed\"))\n",
       "        .catch(showError)\n",
       "        .then(() => displayChart(vegaEmbed));\n",
       "    }\n",
       "  })({\"config\": {\"view\": {\"continuousWidth\": 400, \"continuousHeight\": 300}}, \"vconcat\": [{\"data\": {\"url\": \"teste.json\"}, \"mark\": \"bar\", \"encoding\": {\"color\": {\"condition\": {\"value\": \"steelblue\", \"selection\": \"selector092\"}, \"value\": \"grey\"}, \"x\": {\"type\": \"nominal\", \"field\": \"Dominant_Topic\"}, \"y\": {\"type\": \"quantitative\", \"aggregate\": \"median\", \"field\": \"Word_Count\"}}, \"height\": 100, \"selection\": {\"selector092\": {\"type\": \"multi\", \"encodings\": [\"x\"]}}, \"width\": 1000}, {\"layer\": [{\"mark\": {\"type\": \"rule\", \"color\": \"black\", \"strokeWidth\": 1}, \"encoding\": {\"x\": {\"type\": \"temporal\", \"field\": \"start\"}}}, {\"mark\": {\"type\": \"text\", \"align\": \"left\", \"baseline\": \"top\", \"dy\": -195, \"size\": 9}, \"encoding\": {\"color\": {\"value\": \"#000000\"}, \"text\": {\"type\": \"nominal\", \"field\": \"evento\"}, \"x\": {\"type\": \"temporal\", \"field\": \"start\", \"scale\": {\"domain\": {\"selection\": \"selector094\"}}}}}, {\"data\": {\"url\": \"teste.json\"}, \"mark\": {\"type\": \"area\", \"interpolate\": \"monotone\"}, \"encoding\": {\"color\": {\"type\": \"nominal\", \"field\": \"Dominant_Topic\", \"scale\": {\"scheme\": \"dark2\"}}, \"opacity\": {\"condition\": {\"value\": 1, \"selection\": \"selector093\"}, \"value\": 0.2}, \"x\": {\"type\": \"temporal\", \"field\": \"Data\", \"scale\": {\"domain\": {\"selection\": \"selector094\"}}, \"timeUnit\": \"yearmonth\"}, \"y\": {\"type\": \"quantitative\", \"aggregate\": \"sum\", \"field\": \"Word_Count\", \"stack\": \"center\"}}, \"height\": 400, \"selection\": {\"selector093\": {\"type\": \"multi\", \"fields\": [\"Dominant_Topic\"], \"bind\": \"legend\"}}, \"transform\": [{\"filter\": {\"selection\": \"selector092\"}}], \"width\": 1000}], \"data\": {\"url\": \"altair-data-a77df692dddb934c30bc41bdea263320.json\", \"format\": {\"type\": \"json\"}}}, {\"layer\": [{\"data\": {\"url\": \"altair-data-a77df692dddb934c30bc41bdea263320.json\", \"format\": {\"type\": \"json\"}}, \"mark\": {\"type\": \"rule\", \"color\": \"black\", \"strokeWidth\": 1}, \"encoding\": {\"x\": {\"type\": \"temporal\", \"field\": \"start\"}}}, {\"data\": {\"url\": \"teste.json\"}, \"mark\": {\"type\": \"area\", \"interpolate\": \"monotone\"}, \"encoding\": {\"color\": {\"type\": \"nominal\", \"field\": \"Dominant_Topic\", \"legend\": null, \"scale\": {\"scheme\": \"dark2\"}}, \"opacity\": {\"condition\": {\"value\": 1, \"selection\": \"selector093\"}, \"value\": 0.2}, \"x\": {\"type\": \"temporal\", \"axis\": {\"domain\": false, \"format\": \"%b %Y\", \"tickSize\": 0}, \"field\": \"Data\", \"timeUnit\": \"yearmonth\"}, \"y\": {\"type\": \"quantitative\", \"aggregate\": \"sum\", \"field\": \"Word_Count\", \"stack\": \"center\"}}, \"height\": 60, \"selection\": {\"selector093\": {\"type\": \"multi\", \"fields\": [\"Dominant_Topic\"], \"bind\": \"legend\"}, \"selector094\": {\"type\": \"interval\", \"encodings\": [\"x\"]}}, \"transform\": [{\"filter\": {\"selection\": \"selector092\"}}], \"width\": 1000}]}, {\"hconcat\": [{\"data\": {\"url\": \"teste.json\"}, \"mark\": \"bar\", \"encoding\": {\"color\": {\"condition\": {\"value\": \"red\", \"selection\": \"selector095\"}, \"value\": \"grey\"}, \"x\": {\"type\": \"nominal\", \"field\": \"Partido\"}, \"y\": {\"type\": \"quantitative\", \"aggregate\": \"median\", \"axis\": null, \"field\": \"Word_Count\", \"stack\": \"center\"}}, \"height\": 50, \"selection\": {\"selector095\": {\"type\": \"single\", \"encodings\": [\"x\"]}}, \"transform\": [{\"filter\": {\"selection\": \"selector092\"}}], \"width\": 500}, {\"data\": {\"url\": \"teste.json\"}, \"mark\": \"bar\", \"encoding\": {\"color\": {\"condition\": {\"value\": \"red\", \"selection\": \"selector096\"}, \"value\": \"grey\"}, \"x\": {\"type\": \"nominal\", \"field\": \"Partido\"}, \"y\": {\"type\": \"quantitative\", \"aggregate\": \"median\", \"axis\": null, \"field\": \"Word_Count\", \"stack\": \"center\"}}, \"height\": 50, \"selection\": {\"selector096\": {\"type\": \"single\", \"encodings\": [\"x\"]}}, \"transform\": [{\"filter\": {\"selection\": \"selector092\"}}], \"width\": 500}]}, {\"hconcat\": [{\"mark\": {\"type\": \"area\", \"interpolate\": \"monotone\"}, \"encoding\": {\"color\": {\"type\": \"nominal\", \"field\": \"Dominant_Topic\", \"legend\": null, \"scale\": {\"scheme\": \"dark2\"}}, \"opacity\": {\"condition\": {\"value\": 1, \"selection\": \"selector093\"}, \"value\": 0.2}, \"tooltip\": [{\"type\": \"nominal\", \"field\": \"Dominant_Topic\", \"title\": \"T\\u00f3pico\"}], \"x\": {\"type\": \"temporal\", \"field\": \"Data\", \"scale\": {\"domain\": {\"selection\": \"selector094\"}}, \"timeUnit\": \"yearmonth\"}, \"y\": {\"type\": \"quantitative\", \"aggregate\": \"sum\", \"field\": \"Word_Count\", \"stack\": \"center\"}}, \"height\": 200, \"selection\": {\"selector093\": {\"type\": \"multi\", \"fields\": [\"Dominant_Topic\"], \"bind\": \"legend\"}}, \"transform\": [{\"filter\": {\"selection\": \"selector092\"}}, {\"filter\": {\"selection\": \"selector095\"}}, {\"filter\": {\"selection\": \"selector092\"}}], \"width\": 500}, {\"mark\": {\"type\": \"area\", \"interpolate\": \"monotone\"}, \"encoding\": {\"color\": {\"type\": \"nominal\", \"field\": \"Dominant_Topic\", \"legend\": null, \"scale\": {\"scheme\": \"dark2\"}}, \"opacity\": {\"condition\": {\"value\": 1, \"selection\": \"selector093\"}, \"value\": 0.2}, \"tooltip\": [{\"type\": \"nominal\", \"field\": \"Dominant_Topic\", \"title\": \"T\\u00f3pico\"}], \"x\": {\"type\": \"temporal\", \"field\": \"Data\", \"scale\": {\"domain\": {\"selection\": \"selector094\"}}, \"timeUnit\": \"yearmonth\"}, \"y\": {\"type\": \"quantitative\", \"aggregate\": \"sum\", \"axis\": null, \"field\": \"Word_Count\", \"stack\": \"center\"}}, \"height\": 200, \"selection\": {\"selector093\": {\"type\": \"multi\", \"fields\": [\"Dominant_Topic\"], \"bind\": \"legend\"}}, \"transform\": [{\"filter\": {\"selection\": \"selector092\"}}, {\"filter\": {\"selection\": \"selector096\"}}, {\"filter\": {\"selection\": \"selector092\"}}], \"width\": 500}], \"data\": {\"url\": \"teste.json\"}, \"resolve\": {\"scale\": {\"y\": \"shared\"}}}], \"$schema\": \"https://vega.github.io/schema/vega-lite/v4.8.1.json\"}, {\"mode\": \"vega-lite\"});\n",
       "</script>"
      ],
      "text/plain": [
       "alt.VConcatChart(...)"
      ]
     },
     "execution_count": 16,
     "metadata": {},
     "output_type": "execute_result"
    }
   ],
   "source": [
    "pts=alt.selection(type=\"multi\",encodings=['x'])\n",
    "selection = alt.selection_multi(fields=['Dominant_Topic'], bind='legend')\n",
    "\n",
    "bar = alt.Chart('teste.json').mark_bar().encode(alt.X('Dominant_Topic:N'),\\\n",
    "                                                        alt.Y('median(Word_Count):Q'),color=alt.condition(pts, alt.ColorValue(\"steelblue\"), alt.ColorValue(\"grey\"))).\\\n",
    "properties(width=1000,height=100).add_selection(pts)\n",
    "\n",
    "brush = alt.selection(type='interval', encodings=['x'])\n",
    "\n",
    "#tooltip=[alt.Tooltip('Dominant_Topic:N',title='Tópico')]\n",
    "base = alt.Chart('teste.json').mark_area(interpolate='monotone').encode(\n",
    "    alt.X('yearmonth(Data):T',axis=alt.Axis(format=(\"%b %Y\"),domain=False,tickSize=0)),\n",
    "    alt.Y('sum(Word_Count):Q',stack='center'),alt.Color('Dominant_Topic:N',scale=alt.Scale(scheme='dark2'))\n",
    ",opacity=alt.condition(selection, alt.value(1), alt.value(0.2))).properties(width=1000,height=400).transform_filter(pts).add_selection(selection)\n",
    "\n",
    "upper = base.encode(alt.X('yearmonth(Data):T', scale=alt.Scale(domain=brush)))#.properties(tooltip=['Dominant_Topic:N'])\n",
    "\n",
    "lower = base.encode(alt.Color('Dominant_Topic:N',legend=None,scale=alt.Scale(scheme='dark2'))).properties(height=60).add_selection(brush)\n",
    "\n",
    "rule=alt.Chart(eventos).mark_rule(color='black',strokeWidth=1).encode(x='start:T')\n",
    "text=alt.Chart(eventos).mark_text(align='left',baseline='top',dy=-195,size=9).encode(alt.X('start:T',scale=alt.Scale(domain=brush)),text='evento',color=alt.value('#000000'))\n",
    "\n",
    "pts2=alt.selection(type=\"single\",encodings=['x'])\n",
    "bar2 = alt.Chart('teste.json').mark_bar().encode(alt.X('Partido:N'),\\\n",
    "                                                        alt.Y('median(Word_Count):Q',stack='center',axis=None),color=alt.condition(pts2, alt.ColorValue(\"red\"), alt.ColorValue(\"grey\"))).\\\n",
    "properties(width=500,height=50).transform_filter(pts).add_selection(pts2)\n",
    "\n",
    "pts3=alt.selection(type=\"single\",encodings=['x'])\n",
    "bar3 = alt.Chart('teste.json').mark_bar().encode(alt.X('Partido:N'),\\\n",
    "                                                        alt.Y('median(Word_Count):Q',stack='center',axis=None),color=alt.condition(pts3, alt.ColorValue(\"red\"), alt.ColorValue(\"grey\"))).\\\n",
    "properties(width=500,height=50).transform_filter(pts).add_selection(pts3)\n",
    "\n",
    "pts4=alt.selection(type=\"single\",encodings=['y'])\n",
    "\n",
    "bar4 = alt.Chart('teste.json').mark_rect().encode(alt.X('Dominant_Topic:N',scale=alt.Scale(domain=pts)),\\\n",
    "                                                        alt.Y('Nome:N',axis=alt.Axis(orient='right')),color=alt.Color('Word_Count:Q',scale=alt.Scale(scheme='plasma'),legend=alt.Legend(orient='bottom')),tooltip=[alt.Tooltip('Nome:N',title='Nome'),\\\n",
    "                                                                                                                                                  alt.Tooltip('Partido:N',title='Partido')]).\\\n",
    "properties().transform_filter(pts2).add_selection(pts4).transform_filter(pts)#.properties(width=500,height=5000)\n",
    "\n",
    "upper2= base.encode(alt.X('yearmonth(Data):T', scale=alt.Scale(domain=brush)),alt.Color('Dominant_Topic:N',legend=None,scale=alt.Scale(scheme='dark2')),tooltip=[alt.Tooltip('Dominant_Topic:N',title='Tópico')]).transform_filter(pts2).transform_filter(pts).properties(width=500,height=200)#.transform_filter(pts4)\n",
    "\n",
    "\n",
    "pts5=alt.selection(type=\"single\",encodings=['y'])\n",
    "bar5 = alt.Chart('teste.json').mark_rect().encode(alt.X('Dominant_Topic:N'),\\\n",
    "                                                        alt.Y('Nome:N'),color=alt.Color('Word_Count:Q',scale=alt.Scale(scheme='plasma'),legend=alt.Legend(orient='bottom')),tooltip=[alt.Tooltip('Nome:N',title='Nome'),\\\n",
    "                                                                                                                                                  alt.Tooltip('Partido:N',title='Partido')]).\\\n",
    "properties().transform_filter(pts3).add_selection(pts5).transform_filter(pts)#.properties(width=500,height=5000)\n",
    "\n",
    "\n",
    "upper3= base.encode(alt.X('yearmonth(Data):T', scale=alt.Scale(domain=brush)),alt.Y('sum(Word_Count):Q',stack='center',axis=None),alt.Color('Dominant_Topic:N',legend=None,scale=alt.Scale(scheme='dark2')),tooltip=[alt.Tooltip('Dominant_Topic:N',title='Tópico')]).transform_filter(pts3).transform_filter(pts).properties(width=500,height=200)#.transform_filter(pts5)#.configure_legend(orient='bottom')\n",
    "\n",
    "\n",
    "\n",
    "text_display=alt.Chart('teste.json').mark_text(align='left',baseline='top',dy=-195,size=9).encode(alt.X('Data:T'),alt.Y('Nome:N'),text='Text:N',color=alt.value('#000000'))\n",
    "\n",
    "bar & (rule+text+upper) & (rule+lower) & (bar2|bar3) & alt.hconcat(upper2 , upper3).resolve_scale(y='shared')# & alt.hconcat(bar4, bar5,spacing=200).transform_sample(20) #& text_display.transform_sample(20)"
   ]
  },
  {
   "cell_type": "code",
   "execution_count": null,
   "metadata": {},
   "outputs": [],
   "source": []
  },
  {
   "cell_type": "code",
   "execution_count": null,
   "metadata": {},
   "outputs": [],
   "source": []
  },
  {
   "cell_type": "code",
   "execution_count": null,
   "metadata": {},
   "outputs": [],
   "source": []
  },
  {
   "cell_type": "code",
   "execution_count": null,
   "metadata": {},
   "outputs": [],
   "source": []
  },
  {
   "cell_type": "code",
   "execution_count": null,
   "metadata": {},
   "outputs": [],
   "source": []
  },
  {
   "cell_type": "code",
   "execution_count": null,
   "metadata": {},
   "outputs": [],
   "source": []
  }
 ],
 "metadata": {
  "kernelspec": {
   "display_name": "Python 3",
   "language": "python",
   "name": "python3"
  },
  "language_info": {
   "codemirror_mode": {
    "name": "ipython",
    "version": 3
   },
   "file_extension": ".py",
   "mimetype": "text/x-python",
   "name": "python",
   "nbconvert_exporter": "python",
   "pygments_lexer": "ipython3",
   "version": "3.8.5"
  }
 },
 "nbformat": 4,
 "nbformat_minor": 4
}
